{
 "cells": [
  {
   "cell_type": "code",
   "execution_count": 1,
   "metadata": {},
   "outputs": [],
   "source": [
    "import pandas as pd\n",
    "import numpy as np\n",
    "from sklearn.model_selection import train_test_split\n",
    "from sklearn.preprocessing import LabelEncoder\n",
    "import warnings\n",
    "warnings.filterwarnings(\"ignore\")"
   ]
  },
  {
   "cell_type": "code",
   "execution_count": 2,
   "metadata": {},
   "outputs": [
    {
     "data": {
      "text/html": [
       "<div>\n",
       "<style scoped>\n",
       "    .dataframe tbody tr th:only-of-type {\n",
       "        vertical-align: middle;\n",
       "    }\n",
       "\n",
       "    .dataframe tbody tr th {\n",
       "        vertical-align: top;\n",
       "    }\n",
       "\n",
       "    .dataframe thead th {\n",
       "        text-align: right;\n",
       "    }\n",
       "</style>\n",
       "<table border=\"1\" class=\"dataframe\">\n",
       "  <thead>\n",
       "    <tr style=\"text-align: right;\">\n",
       "      <th></th>\n",
       "      <th>SWI</th>\n",
       "      <th>SWF</th>\n",
       "      <th>temperature</th>\n",
       "      <th>size</th>\n",
       "      <th>management</th>\n",
       "      <th>duration</th>\n",
       "    </tr>\n",
       "  </thead>\n",
       "  <tbody>\n",
       "    <tr>\n",
       "      <th>0</th>\n",
       "      <td>0.59</td>\n",
       "      <td>1.30</td>\n",
       "      <td>3.5</td>\n",
       "      <td>0.5</td>\n",
       "      <td>2</td>\n",
       "      <td>20</td>\n",
       "    </tr>\n",
       "    <tr>\n",
       "      <th>1</th>\n",
       "      <td>1.21</td>\n",
       "      <td>1.85</td>\n",
       "      <td>4.6</td>\n",
       "      <td>47.2</td>\n",
       "      <td>3</td>\n",
       "      <td>19</td>\n",
       "    </tr>\n",
       "    <tr>\n",
       "      <th>2</th>\n",
       "      <td>1.08</td>\n",
       "      <td>0.97</td>\n",
       "      <td>4.8</td>\n",
       "      <td>53.3</td>\n",
       "      <td>4</td>\n",
       "      <td>22</td>\n",
       "    </tr>\n",
       "    <tr>\n",
       "      <th>3</th>\n",
       "      <td>1.60</td>\n",
       "      <td>1.67</td>\n",
       "      <td>5.2</td>\n",
       "      <td>27.2</td>\n",
       "      <td>8</td>\n",
       "      <td>20</td>\n",
       "    </tr>\n",
       "    <tr>\n",
       "      <th>4</th>\n",
       "      <td>2.95</td>\n",
       "      <td>2.41</td>\n",
       "      <td>5.7</td>\n",
       "      <td>38.8</td>\n",
       "      <td>6</td>\n",
       "      <td>22</td>\n",
       "    </tr>\n",
       "  </tbody>\n",
       "</table>\n",
       "</div>"
      ],
      "text/plain": [
       "    SWI   SWF  temperature  size  management  duration\n",
       "0  0.59  1.30          3.5   0.5           2        20\n",
       "1  1.21  1.85          4.6  47.2           3        19\n",
       "2  1.08  0.97          4.8  53.3           4        22\n",
       "3  1.60  1.67          5.2  27.2           8        20\n",
       "4  2.95  2.41          5.7  38.8           6        22"
      ]
     },
     "execution_count": 2,
     "metadata": {},
     "output_type": "execute_result"
    }
   ],
   "source": [
    "invertebrate_data = pd.read_csv('https://raw.githubusercontent.com/dphi-official/Datasets/master/Invertebrate/Invertebrate_dataset.csv')\n",
    "invertebrate_data.head()"
   ]
  },
  {
   "cell_type": "code",
   "execution_count": 3,
   "metadata": {},
   "outputs": [
    {
     "name": "stdout",
     "output_type": "stream",
     "text": [
      "<class 'pandas.core.frame.DataFrame'>\n",
      "RangeIndex: 280 entries, 0 to 279\n",
      "Data columns (total 6 columns):\n",
      " #   Column       Non-Null Count  Dtype  \n",
      "---  ------       --------------  -----  \n",
      " 0   SWI          280 non-null    float64\n",
      " 1   SWF          280 non-null    float64\n",
      " 2   temperature  280 non-null    float64\n",
      " 3   size         280 non-null    float64\n",
      " 4   management   280 non-null    int64  \n",
      " 5   duration     280 non-null    int64  \n",
      "dtypes: float64(4), int64(2)\n",
      "memory usage: 13.2 KB\n"
     ]
    }
   ],
   "source": [
    "invertebrate_data.info()"
   ]
  },
  {
   "cell_type": "code",
   "execution_count": 4,
   "metadata": {},
   "outputs": [
    {
     "data": {
      "text/html": [
       "<div>\n",
       "<style scoped>\n",
       "    .dataframe tbody tr th:only-of-type {\n",
       "        vertical-align: middle;\n",
       "    }\n",
       "\n",
       "    .dataframe tbody tr th {\n",
       "        vertical-align: top;\n",
       "    }\n",
       "\n",
       "    .dataframe thead th {\n",
       "        text-align: right;\n",
       "    }\n",
       "</style>\n",
       "<table border=\"1\" class=\"dataframe\">\n",
       "  <thead>\n",
       "    <tr style=\"text-align: right;\">\n",
       "      <th></th>\n",
       "      <th>SWI</th>\n",
       "      <th>SWF</th>\n",
       "      <th>temperature</th>\n",
       "      <th>size</th>\n",
       "      <th>management</th>\n",
       "      <th>duration</th>\n",
       "    </tr>\n",
       "  </thead>\n",
       "  <tbody>\n",
       "    <tr>\n",
       "      <th>count</th>\n",
       "      <td>280.000000</td>\n",
       "      <td>280.000000</td>\n",
       "      <td>280.000000</td>\n",
       "      <td>280.000000</td>\n",
       "      <td>280.000000</td>\n",
       "      <td>280.000000</td>\n",
       "    </tr>\n",
       "    <tr>\n",
       "      <th>mean</th>\n",
       "      <td>1.896714</td>\n",
       "      <td>1.480679</td>\n",
       "      <td>16.372500</td>\n",
       "      <td>41.138214</td>\n",
       "      <td>4.082143</td>\n",
       "      <td>31.307143</td>\n",
       "    </tr>\n",
       "    <tr>\n",
       "      <th>std</th>\n",
       "      <td>0.610995</td>\n",
       "      <td>0.476403</td>\n",
       "      <td>3.619312</td>\n",
       "      <td>19.434496</td>\n",
       "      <td>2.520959</td>\n",
       "      <td>4.198304</td>\n",
       "    </tr>\n",
       "    <tr>\n",
       "      <th>min</th>\n",
       "      <td>0.480000</td>\n",
       "      <td>0.250000</td>\n",
       "      <td>3.500000</td>\n",
       "      <td>0.500000</td>\n",
       "      <td>0.000000</td>\n",
       "      <td>19.000000</td>\n",
       "    </tr>\n",
       "    <tr>\n",
       "      <th>25%</th>\n",
       "      <td>1.507500</td>\n",
       "      <td>1.190000</td>\n",
       "      <td>14.100000</td>\n",
       "      <td>27.275000</td>\n",
       "      <td>2.000000</td>\n",
       "      <td>29.000000</td>\n",
       "    </tr>\n",
       "    <tr>\n",
       "      <th>50%</th>\n",
       "      <td>1.825000</td>\n",
       "      <td>1.495000</td>\n",
       "      <td>17.050000</td>\n",
       "      <td>41.100000</td>\n",
       "      <td>4.000000</td>\n",
       "      <td>32.000000</td>\n",
       "    </tr>\n",
       "    <tr>\n",
       "      <th>75%</th>\n",
       "      <td>2.282500</td>\n",
       "      <td>1.790000</td>\n",
       "      <td>19.125000</td>\n",
       "      <td>54.725000</td>\n",
       "      <td>6.000000</td>\n",
       "      <td>34.000000</td>\n",
       "    </tr>\n",
       "    <tr>\n",
       "      <th>max</th>\n",
       "      <td>3.790000</td>\n",
       "      <td>2.840000</td>\n",
       "      <td>21.600000</td>\n",
       "      <td>94.200000</td>\n",
       "      <td>8.000000</td>\n",
       "      <td>41.000000</td>\n",
       "    </tr>\n",
       "  </tbody>\n",
       "</table>\n",
       "</div>"
      ],
      "text/plain": [
       "              SWI         SWF  temperature        size  management    duration\n",
       "count  280.000000  280.000000   280.000000  280.000000  280.000000  280.000000\n",
       "mean     1.896714    1.480679    16.372500   41.138214    4.082143   31.307143\n",
       "std      0.610995    0.476403     3.619312   19.434496    2.520959    4.198304\n",
       "min      0.480000    0.250000     3.500000    0.500000    0.000000   19.000000\n",
       "25%      1.507500    1.190000    14.100000   27.275000    2.000000   29.000000\n",
       "50%      1.825000    1.495000    17.050000   41.100000    4.000000   32.000000\n",
       "75%      2.282500    1.790000    19.125000   54.725000    6.000000   34.000000\n",
       "max      3.790000    2.840000    21.600000   94.200000    8.000000   41.000000"
      ]
     },
     "execution_count": 4,
     "metadata": {},
     "output_type": "execute_result"
    }
   ],
   "source": [
    "invertebrate_data.describe()"
   ]
  },
  {
   "cell_type": "code",
   "execution_count": 5,
   "metadata": {},
   "outputs": [],
   "source": [
    "X = invertebrate_data.drop('SWI', axis = 1) \n",
    "y = invertebrate_data['SWI']"
   ]
  },
  {
   "cell_type": "code",
   "execution_count": 8,
   "metadata": {},
   "outputs": [],
   "source": [
    "X_train, X_test, y_train, y_test = train_test_split(X, y, test_size = 0.15, random_state = 53)"
   ]
  },
  {
   "cell_type": "code",
   "execution_count": 83,
   "metadata": {},
   "outputs": [
    {
     "data": {
      "text/plain": [
       "LinearRegression(copy_X=True, fit_intercept=False, n_jobs=None, normalize=False)"
      ]
     },
     "execution_count": 83,
     "metadata": {},
     "output_type": "execute_result"
    }
   ],
   "source": [
    "from sklearn.linear_model import LinearRegression\n",
    "\n",
    "lr = LinearRegression()\n",
    "lr.fit(X_train, y_train)"
   ]
  },
  {
   "cell_type": "code",
   "execution_count": 84,
   "metadata": {},
   "outputs": [
    {
     "name": "stdout",
     "output_type": "stream",
     "text": [
      "MAE of the LR model is: 0.31824985599320293\n",
      "MSE of the LR model is: 0.1511183733577655\n",
      "R2 score of the LR model is: 0.5553969069362182\n",
      "RMSE of the LR model is: 0.3887394671984895\n"
     ]
    }
   ],
   "source": [
    "from sklearn.metrics import mean_squared_error, r2_score, mean_absolute_error\n",
    "\n",
    "lr_pred = lr.predict(X_test)\n",
    "\n",
    "mse_lr = mean_squared_error(y_test, lr_pred)\n",
    "r2_lr = r2_score(y_test, lr_pred)\n",
    "mae_lr = mean_absolute_error(y_test, lr_pred)\n",
    "rmse_lr = (np.sqrt(mean_squared_error(y_test, lr_pred)))\n",
    "print(\"MAE of the LR model is: {}\".format(mae_lr))\n",
    "print(\"MSE of the LR model is: {}\".format(mse_lr))\n",
    "print(\"R2 score of the LR model is: {}\".format(r2_lr))\n",
    "print(\"RMSE of the LR model is: {}\".format(rmse_lr))"
   ]
  },
  {
   "cell_type": "code",
   "execution_count": 36,
   "metadata": {},
   "outputs": [
    {
     "data": {
      "text/plain": [
       "DecisionTreeRegressor(ccp_alpha=0.0, criterion='mse', max_depth=2,\n",
       "                      max_features='auto', max_leaf_nodes=None,\n",
       "                      min_impurity_decrease=0.0, min_impurity_split=None,\n",
       "                      min_samples_leaf=1, min_samples_split=2,\n",
       "                      min_weight_fraction_leaf=0.0, presort='deprecated',\n",
       "                      random_state=53, splitter='best')"
      ]
     },
     "execution_count": 36,
     "metadata": {},
     "output_type": "execute_result"
    }
   ],
   "source": [
    "from sklearn.tree import DecisionTreeRegressor\n",
    "dtr = DecisionTreeRegressor(max_depth=2, max_features='auto', random_state=53)\n",
    "dtr.fit(X_train, y_train)"
   ]
  },
  {
   "cell_type": "code",
   "execution_count": 69,
   "metadata": {},
   "outputs": [
    {
     "name": "stdout",
     "output_type": "stream",
     "text": [
      "MAE of the DTR model is: 0.3069470726441152\n",
      "MSE of the DTR model is: 0.19442435270895664\n",
      "R2 score of the DTR model is: 0.4279870365155449\n",
      "RMSE of the DTR model is: 0.4409357693689146\n"
     ]
    }
   ],
   "source": [
    "dtr_pred = dtr.predict(X_test)\n",
    "\n",
    "mae_dtr = mean_absolute_error(y_test, dtr_pred)\n",
    "mse_dtr = mean_squared_error(y_test, dtr_pred)\n",
    "r2_dtr = r2_score(y_test, dtr_pred)\n",
    "rmse_dtr = (np.sqrt(mean_squared_error(y_test, dtr_pred)))\n",
    "print(\"MAE of the DTR model is: {}\".format(mae_lr))\n",
    "print(\"MSE of the DTR model is: {}\".format(mse_dtr))\n",
    "print(\"R2 score of the DTR model is: {}\".format(r2_dtr))\n",
    "print(\"RMSE of the DTR model is: {}\".format(rmse_dtr))"
   ]
  },
  {
   "cell_type": "code",
   "execution_count": 43,
   "metadata": {},
   "outputs": [],
   "source": [
    "from sklearn.ensemble import RandomForestRegressor"
   ]
  },
  {
   "cell_type": "code",
   "execution_count": 77,
   "metadata": {},
   "outputs": [
    {
     "data": {
      "text/plain": [
       "RandomForestRegressor(bootstrap=True, ccp_alpha=0.0, criterion='mse',\n",
       "                      max_depth=4, max_features='auto', max_leaf_nodes=None,\n",
       "                      max_samples=None, min_impurity_decrease=0.0,\n",
       "                      min_impurity_split=None, min_samples_leaf=1,\n",
       "                      min_samples_split=2, min_weight_fraction_leaf=0.0,\n",
       "                      n_estimators=100, n_jobs=None, oob_score=True,\n",
       "                      random_state=42, verbose=0, warm_start=False)"
      ]
     },
     "execution_count": 77,
     "metadata": {},
     "output_type": "execute_result"
    }
   ],
   "source": [
    "rfr = RandomForestRegressor(max_depth=4, max_features='auto', random_state=42, oob_score=True)\n",
    "rfr.fit(X_train, y_train)"
   ]
  },
  {
   "cell_type": "code",
   "execution_count": 78,
   "metadata": {},
   "outputs": [
    {
     "name": "stdout",
     "output_type": "stream",
     "text": [
      "MAE of the RFR model is: 0.2936454352787597\n",
      "MSE of the RFR model is: 0.14562044395692522\n",
      "R2 score of the RFR model is: 0.5715722823240469\n",
      "RMSE of the RFR model is: 0.38160246848903534\n"
     ]
    }
   ],
   "source": [
    "rfr_pred = rfr.predict(X_test)\n",
    "\n",
    "mae_rfr = mean_absolute_error(y_test, rfr_pred)\n",
    "mse_rfr = mean_squared_error(y_test, rfr_pred)\n",
    "r2_rfr = r2_score(y_test, rfr_pred)\n",
    "rmse_rfr = (np.sqrt(mean_squared_error(y_test, rfr_pred)))\n",
    "print(\"MAE of the RFR model is: {}\".format(mae_rfr))\n",
    "print(\"MSE of the RFR model is: {}\".format(mse_rfr))\n",
    "print(\"R2 score of the RFR model is: {}\".format(r2_rfr))\n",
    "print(\"RMSE of the RFR model is: {}\".format(rmse_rfr))"
   ]
  },
  {
   "cell_type": "code",
   "execution_count": 104,
   "metadata": {},
   "outputs": [
    {
     "data": {
      "text/plain": [
       "XGBRegressor(base_score=0.5, booster='gbtree', colsample_bylevel=1,\n",
       "             colsample_bynode=1, colsample_bytree=1, gamma=0, gpu_id=-1,\n",
       "             importance_type='gain', interaction_constraints='',\n",
       "             learning_rate=0.333, max_delta_step=0, max_depth=1,\n",
       "             min_child_weight=1, missing=nan, monotone_constraints='()',\n",
       "             n_estimators=100, n_jobs=0, num_parallel_tree=1,\n",
       "             objective='reg:squarederror', random_state=0, reg_alpha=0,\n",
       "             reg_lambda=1, scale_pos_weight=1, subsample=1, tree_method='exact',\n",
       "             validate_parameters=1, verbosity=None)"
      ]
     },
     "execution_count": 104,
     "metadata": {},
     "output_type": "execute_result"
    }
   ],
   "source": [
    "from xgboost import XGBRegressor\n",
    "\n",
    "xgb_model = XGBRegressor(max_depth=1, learning_rate=0.333) #, booster='dart') #, eval_metric='error@0.7') #, objective='binary:hinge')\n",
    "xgb_model.fit(X_train, y_train)"
   ]
  },
  {
   "cell_type": "code",
   "execution_count": 105,
   "metadata": {},
   "outputs": [
    {
     "name": "stdout",
     "output_type": "stream",
     "text": [
      "MAE of the XGB model is: 0.30101592801866073\n",
      "MSE of the XGB model is: 0.14220237759111448\n",
      "R2 score of the XGB model is: 0.5816285239627719\n",
      "RMSE of the XGB model is: 0.37709730520266843\n"
     ]
    }
   ],
   "source": [
    "xgb_pred = xgb_model.predict(X_test)\n",
    "\n",
    "mae_xgb = mean_absolute_error(y_test, xgb_pred)\n",
    "mse_xgb = mean_squared_error(y_test, xgb_pred)\n",
    "r2_xgb = r2_score(y_test, xgb_pred)\n",
    "rmse_xgb = (np.sqrt(mean_squared_error(y_test, xgb_pred)))\n",
    "print(\"MAE of the XGB model is: {}\".format(mae_xgb))\n",
    "print(\"MSE of the XGB model is: {}\".format(mse_xgb))\n",
    "print(\"R2 score of the XGB model is: {}\".format(r2_xgb))\n",
    "print(\"RMSE of the XGB model is: {}\".format(rmse_xgb))"
   ]
  },
  {
   "cell_type": "code",
   "execution_count": 38,
   "metadata": {},
   "outputs": [
    {
     "name": "stdout",
     "output_type": "stream",
     "text": [
      "<class 'pandas.core.frame.DataFrame'>\n",
      "RangeIndex: 120 entries, 0 to 119\n",
      "Data columns (total 5 columns):\n",
      " #   Column       Non-Null Count  Dtype  \n",
      "---  ------       --------------  -----  \n",
      " 0   SWF          120 non-null    float64\n",
      " 1   temperature  120 non-null    float64\n",
      " 2   size         120 non-null    float64\n",
      " 3   management   120 non-null    int64  \n",
      " 4   duration     120 non-null    int64  \n",
      "dtypes: float64(3), int64(2)\n",
      "memory usage: 4.8 KB\n"
     ]
    }
   ],
   "source": [
    "test_new = pd.read_csv('https://raw.githubusercontent.com/dphi-official/Datasets/master/Invertebrate/Invertebrate_new_test_data.csv')\n",
    "test_new.info()"
   ]
  },
  {
   "cell_type": "code",
   "execution_count": 39,
   "metadata": {},
   "outputs": [],
   "source": [
    "lr_predictions = lr.predict(test_new)"
   ]
  },
  {
   "cell_type": "code",
   "execution_count": 40,
   "metadata": {},
   "outputs": [],
   "source": [
    "res = pd.DataFrame(lr_predictions) #preditcions are nothing but the final predictions of your model on input features of your new unseen test data\n",
    "res.index = test_new.index # its important for comparison. Here \"test_new\" is your new test dataset\n",
    "res.columns = [\"prediction\"]\n",
    "res.to_csv(\"prediction_results_lr_pred_model.csv\")"
   ]
  },
  {
   "cell_type": "code",
   "execution_count": 41,
   "metadata": {},
   "outputs": [],
   "source": [
    "dtr_predictions = dtr.predict(test_new)"
   ]
  },
  {
   "cell_type": "code",
   "execution_count": 42,
   "metadata": {},
   "outputs": [],
   "source": [
    "res2 = pd.DataFrame(dtr_predictions) #preditcions are nothing but the final predictions of your model on input features of your new unseen test data\n",
    "res2.index = test_new.index # its important for comparison. Here \"test_new\" is your new test dataset\n",
    "res2.columns = [\"prediction\"]\n",
    "res2.to_csv(\"prediction_results_dtr_pred_model.csv\")"
   ]
  },
  {
   "cell_type": "code",
   "execution_count": 106,
   "metadata": {},
   "outputs": [],
   "source": [
    "xgb_predictions = xgb_model.predict(test_new)"
   ]
  },
  {
   "cell_type": "code",
   "execution_count": 107,
   "metadata": {},
   "outputs": [],
   "source": [
    "res3 = pd.DataFrame(xgb_predictions) #preditcions are nothing but the final predictions of your model on input features of your new unseen test data\n",
    "res3.index = test_new.index # its important for comparison. Here \"test_new\" is your new test dataset\n",
    "res3.columns = [\"prediction\"]\n",
    "res3.to_csv(\"prediction_results_xgb_pred_model.csv\")"
   ]
  }
 ],
 "metadata": {
  "kernelspec": {
   "display_name": "Python 3",
   "language": "python",
   "name": "python3"
  },
  "language_info": {
   "codemirror_mode": {
    "name": "ipython",
    "version": 3
   },
   "file_extension": ".py",
   "mimetype": "text/x-python",
   "name": "python",
   "nbconvert_exporter": "python",
   "pygments_lexer": "ipython3",
   "version": "3.7.1"
  }
 },
 "nbformat": 4,
 "nbformat_minor": 4
}
