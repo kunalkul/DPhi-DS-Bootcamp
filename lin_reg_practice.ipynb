{
 "cells": [
  {
   "cell_type": "code",
   "execution_count": 1,
   "metadata": {},
   "outputs": [],
   "source": [
    "import pandas as pd\n",
    "import numpy as np\n",
    "import matplotlib.pyplot as plt\n",
    "import seaborn as sns\n",
    "\n",
    "from sklearn.model_selection import train_test_split \n",
    "from sklearn.linear_model import LinearRegression\n",
    "from sklearn.metrics import mean_squared_error, r2_score\n",
    "from sklearn import metrics"
   ]
  },
  {
   "cell_type": "code",
   "execution_count": 2,
   "metadata": {},
   "outputs": [
    {
     "data": {
      "text/html": [
       "<div>\n",
       "<style scoped>\n",
       "    .dataframe tbody tr th:only-of-type {\n",
       "        vertical-align: middle;\n",
       "    }\n",
       "\n",
       "    .dataframe tbody tr th {\n",
       "        vertical-align: top;\n",
       "    }\n",
       "\n",
       "    .dataframe thead th {\n",
       "        text-align: right;\n",
       "    }\n",
       "</style>\n",
       "<table border=\"1\" class=\"dataframe\">\n",
       "  <thead>\n",
       "    <tr style=\"text-align: right;\">\n",
       "      <th></th>\n",
       "      <th>price</th>\n",
       "      <th>bedrooms</th>\n",
       "      <th>bathrooms</th>\n",
       "      <th>sqft_living</th>\n",
       "      <th>sqft_lot</th>\n",
       "      <th>floors</th>\n",
       "      <th>waterfront</th>\n",
       "      <th>view</th>\n",
       "      <th>condition</th>\n",
       "      <th>grade</th>\n",
       "      <th>sqft_above</th>\n",
       "      <th>sqft_basement</th>\n",
       "      <th>yr_built</th>\n",
       "      <th>yr_renovated</th>\n",
       "      <th>zipcode</th>\n",
       "      <th>lat</th>\n",
       "      <th>long</th>\n",
       "      <th>sqft_living15</th>\n",
       "      <th>sqft_lot15</th>\n",
       "    </tr>\n",
       "  </thead>\n",
       "  <tbody>\n",
       "    <tr>\n",
       "      <th>0</th>\n",
       "      <td>221900.0</td>\n",
       "      <td>3</td>\n",
       "      <td>1.00</td>\n",
       "      <td>1180</td>\n",
       "      <td>5650</td>\n",
       "      <td>1.0</td>\n",
       "      <td>0</td>\n",
       "      <td>0</td>\n",
       "      <td>3</td>\n",
       "      <td>7</td>\n",
       "      <td>1180</td>\n",
       "      <td>0</td>\n",
       "      <td>1955</td>\n",
       "      <td>0</td>\n",
       "      <td>98178</td>\n",
       "      <td>47.5112</td>\n",
       "      <td>-122.257</td>\n",
       "      <td>1340</td>\n",
       "      <td>5650</td>\n",
       "    </tr>\n",
       "    <tr>\n",
       "      <th>1</th>\n",
       "      <td>538000.0</td>\n",
       "      <td>3</td>\n",
       "      <td>2.25</td>\n",
       "      <td>2570</td>\n",
       "      <td>7242</td>\n",
       "      <td>2.0</td>\n",
       "      <td>0</td>\n",
       "      <td>0</td>\n",
       "      <td>3</td>\n",
       "      <td>7</td>\n",
       "      <td>2170</td>\n",
       "      <td>400</td>\n",
       "      <td>1951</td>\n",
       "      <td>1991</td>\n",
       "      <td>98125</td>\n",
       "      <td>47.7210</td>\n",
       "      <td>-122.319</td>\n",
       "      <td>1690</td>\n",
       "      <td>7639</td>\n",
       "    </tr>\n",
       "    <tr>\n",
       "      <th>2</th>\n",
       "      <td>180000.0</td>\n",
       "      <td>2</td>\n",
       "      <td>1.00</td>\n",
       "      <td>770</td>\n",
       "      <td>10000</td>\n",
       "      <td>1.0</td>\n",
       "      <td>0</td>\n",
       "      <td>0</td>\n",
       "      <td>3</td>\n",
       "      <td>6</td>\n",
       "      <td>770</td>\n",
       "      <td>0</td>\n",
       "      <td>1933</td>\n",
       "      <td>0</td>\n",
       "      <td>98028</td>\n",
       "      <td>47.7379</td>\n",
       "      <td>-122.233</td>\n",
       "      <td>2720</td>\n",
       "      <td>8062</td>\n",
       "    </tr>\n",
       "    <tr>\n",
       "      <th>3</th>\n",
       "      <td>604000.0</td>\n",
       "      <td>4</td>\n",
       "      <td>3.00</td>\n",
       "      <td>1960</td>\n",
       "      <td>5000</td>\n",
       "      <td>1.0</td>\n",
       "      <td>0</td>\n",
       "      <td>0</td>\n",
       "      <td>5</td>\n",
       "      <td>7</td>\n",
       "      <td>1050</td>\n",
       "      <td>910</td>\n",
       "      <td>1965</td>\n",
       "      <td>0</td>\n",
       "      <td>98136</td>\n",
       "      <td>47.5208</td>\n",
       "      <td>-122.393</td>\n",
       "      <td>1360</td>\n",
       "      <td>5000</td>\n",
       "    </tr>\n",
       "    <tr>\n",
       "      <th>4</th>\n",
       "      <td>510000.0</td>\n",
       "      <td>3</td>\n",
       "      <td>2.00</td>\n",
       "      <td>1680</td>\n",
       "      <td>8080</td>\n",
       "      <td>1.0</td>\n",
       "      <td>0</td>\n",
       "      <td>0</td>\n",
       "      <td>3</td>\n",
       "      <td>8</td>\n",
       "      <td>1680</td>\n",
       "      <td>0</td>\n",
       "      <td>1987</td>\n",
       "      <td>0</td>\n",
       "      <td>98074</td>\n",
       "      <td>47.6168</td>\n",
       "      <td>-122.045</td>\n",
       "      <td>1800</td>\n",
       "      <td>7503</td>\n",
       "    </tr>\n",
       "  </tbody>\n",
       "</table>\n",
       "</div>"
      ],
      "text/plain": [
       "      price  bedrooms  bathrooms  sqft_living  sqft_lot  floors  waterfront  \\\n",
       "0  221900.0         3       1.00         1180      5650     1.0           0   \n",
       "1  538000.0         3       2.25         2570      7242     2.0           0   \n",
       "2  180000.0         2       1.00          770     10000     1.0           0   \n",
       "3  604000.0         4       3.00         1960      5000     1.0           0   \n",
       "4  510000.0         3       2.00         1680      8080     1.0           0   \n",
       "\n",
       "   view  condition  grade  sqft_above  sqft_basement  yr_built  yr_renovated  \\\n",
       "0     0          3      7        1180              0      1955             0   \n",
       "1     0          3      7        2170            400      1951          1991   \n",
       "2     0          3      6         770              0      1933             0   \n",
       "3     0          5      7        1050            910      1965             0   \n",
       "4     0          3      8        1680              0      1987             0   \n",
       "\n",
       "   zipcode      lat     long  sqft_living15  sqft_lot15  \n",
       "0    98178  47.5112 -122.257           1340        5650  \n",
       "1    98125  47.7210 -122.319           1690        7639  \n",
       "2    98028  47.7379 -122.233           2720        8062  \n",
       "3    98136  47.5208 -122.393           1360        5000  \n",
       "4    98074  47.6168 -122.045           1800        7503  "
      ]
     },
     "execution_count": 2,
     "metadata": {},
     "output_type": "execute_result"
    }
   ],
   "source": [
    "house_data = pd.read_csv('https://raw.githubusercontent.com/dphi-official/Datasets/master/kc_house_data/kc_house_data.csv')\n",
    "house_data.head()"
   ]
  },
  {
   "cell_type": "code",
   "execution_count": null,
   "metadata": {},
   "outputs": [],
   "source": [
    "house_data.info()"
   ]
  },
  {
   "cell_type": "code",
   "execution_count": null,
   "metadata": {},
   "outputs": [],
   "source": [
    "from sklearn import preprocessing\n",
    "\n",
    "min_max_scaler = preprocessing.MinMaxScaler()\n",
    "col_names = house_data.drop('price', axis = 1).columns[:]"
   ]
  },
  {
   "cell_type": "code",
   "execution_count": null,
   "metadata": {},
   "outputs": [],
   "source": [
    "x = house_data.loc[:, col_names]\n",
    "x"
   ]
  },
  {
   "cell_type": "code",
   "execution_count": null,
   "metadata": {},
   "outputs": [],
   "source": [
    "y = house_data['price']\n",
    "y"
   ]
  },
  {
   "cell_type": "code",
   "execution_count": null,
   "metadata": {},
   "outputs": [],
   "source": [
    "# Normalizing x\n",
    "x = pd.DataFrame(data = min_max_scaler.fit_transform(x), columns = col_names)\n",
    "\n",
    "# Examine the normalized data\n",
    "print(house_data.head())\n",
    "x.head()"
   ]
  },
  {
   "cell_type": "code",
   "execution_count": null,
   "metadata": {},
   "outputs": [],
   "source": [
    "fig, axs = plt.subplots(ncols = 3, nrows = 6, figsize = (20, 20))\n",
    "sns.regplot(y = house_data['price'], x = x['bathrooms'], ax = axs[0, 0])\n",
    "sns.regplot(y = house_data['price'], x = x['bedrooms'], ax = axs[0, 1])\n",
    "sns.regplot(y = house_data['price'], x = x['floors'], ax = axs[0, 2])\n",
    "sns.regplot(y = house_data['price'], x = x['sqft_living'], ax = axs[1, 0])\n",
    "sns.regplot(y = house_data['price'], x = x['sqft_above'], ax = axs[1, 1])\n",
    "sns.regplot(y = house_data['price'], x = x['sqft_lot'], ax = axs[1, 2])\n",
    "sns.regplot(y = house_data['price'], x = x['sqft_basement'], ax = axs[2, 0])\n",
    "sns.regplot(y = house_data['price'], x = x['sqft_living15'], ax = axs[2, 1])\n",
    "sns.regplot(y = house_data['price'], x = x['sqft_lot15'], ax = axs[2, 2])\n",
    "sns.regplot(y = house_data['price'], x = x['lat'], ax = axs[3, 0])\n",
    "sns.regplot(y = house_data['price'], x = x['long'], ax = axs[3, 1])\n",
    "sns.regplot(y = house_data['price'], x = x['zipcode'], ax = axs[3, 2])\n",
    "sns.regplot(y = house_data['price'], x = x['condition'], ax = axs[4, 0])\n",
    "sns.regplot(y = house_data['price'], x = x['grade'], ax = axs[4, 1])\n",
    "sns.regplot(y = house_data['price'], x = x['yr_built'], ax = axs[4, 2])\n",
    "sns.regplot(y = house_data['price'], x = x['waterfront'], ax = axs[5, 0])\n",
    "sns.regplot(y = house_data['price'], x = x['view'], ax = axs[5, 1])\n",
    "sns.regplot(y = house_data['price'], x = x['yr_renovated'], ax = axs[5, 2])\n",
    "\n",
    "plt.tight_layout()"
   ]
  },
  {
   "cell_type": "code",
   "execution_count": null,
   "metadata": {},
   "outputs": [],
   "source": [
    "# house_data = pd.read_csv('https://raw.githubusercontent.com/dphi-official/Datasets/master/kc_house_data/kc_house_data.csv')\n",
    "\n",
    "# cols_to_drop = ['lat','long']\n",
    "# house_data.drop(columns = cols_to_drop, axis = 1, inplace = True)"
   ]
  },
  {
   "cell_type": "code",
   "execution_count": 3,
   "metadata": {},
   "outputs": [],
   "source": [
    "features = house_data.drop('price', axis = 1)\n",
    "target = house_data['price']"
   ]
  },
  {
   "cell_type": "code",
   "execution_count": 4,
   "metadata": {},
   "outputs": [
    {
     "name": "stdout",
     "output_type": "stream",
     "text": [
      "Train features shape :  (13290, 18)\n",
      "Train target shape   :  (13290,)\n",
      "Test features shape  :  (3323, 18)\n",
      "Test target shape    :  (3323,)\n"
     ]
    }
   ],
   "source": [
    "train_features, test_features, train_target, test_target = train_test_split(features, target, test_size = 0.2, random_state = 2)\n",
    "print(\"Train features shape : \", train_features.shape)\n",
    "print(\"Train target shape   : \", train_target.shape)\n",
    "print(\"Test features shape  : \", test_features.shape)\n",
    "print(\"Test target shape    : \", test_target.shape)"
   ]
  },
  {
   "cell_type": "code",
   "execution_count": null,
   "metadata": {},
   "outputs": [],
   "source": [
    "# selecting features using f_regression (or) mutual_info_regression\n",
    "\n",
    "# from sklearn.feature_selection import SelectKBest, f_regression\n",
    "# X_new = SelectKBest(f_regression, k=18).fit_transform(features, target)\n",
    "# X_new.shape\n",
    "\n",
    "# from sklearn.feature_selection import SelectKBest, mutual_info_regression\n",
    "# X_new = SelectKBest(mutual_info_regression, k=18).fit_transform(features, target)\n",
    "# X_new.shape"
   ]
  },
  {
   "cell_type": "code",
   "execution_count": 5,
   "metadata": {},
   "outputs": [],
   "source": [
    "# Baseline LinearRegression Model\n",
    "\n",
    "model = LinearRegression(normalize = True, fit_intercept=True)\n",
    "base_model = model.fit(train_features, train_target)"
   ]
  },
  {
   "cell_type": "code",
   "execution_count": null,
   "metadata": {},
   "outputs": [],
   "source": [
    "# coeffs = pd.DataFrame({'features':features.columns, 'coeffs':model.coef_})\n",
    "# coeffs"
   ]
  },
  {
   "cell_type": "code",
   "execution_count": null,
   "metadata": {},
   "outputs": [],
   "source": [
    "# import statsmodels.api as sm\n",
    "# ols = sm.OLS(train_target, train_features)\n",
    "# ols_result = ols.fit()\n",
    "# ols_result.summary()"
   ]
  },
  {
   "cell_type": "code",
   "execution_count": 7,
   "metadata": {},
   "outputs": [
    {
     "name": "stdout",
     "output_type": "stream",
     "text": [
      "Baseline Model RMSE: 203757.50241186487\n",
      "Baseline Model R2 Score: 0.7145267343735493\n"
     ]
    }
   ],
   "source": [
    "# Noting down accuracy of the baseline model\n",
    "\n",
    "# finding our predicted values\n",
    "train_target_pred = model.predict(test_features)\n",
    "\n",
    "# Calculating the rmse and R2 Score by comparing the actual and predicted values\n",
    "rmse = (np.sqrt(mean_squared_error(test_target, train_target_pred)))\n",
    "r2 = r2_score(test_target, train_target_pred)\n",
    "\n",
    "print(\"Baseline Model RMSE:\", rmse)\n",
    "print(\"Baseline Model R2 Score:\", r2)"
   ]
  },
  {
   "cell_type": "code",
   "execution_count": 8,
   "metadata": {},
   "outputs": [
    {
     "name": "stdout",
     "output_type": "stream",
     "text": [
      "Num Features: 9\n",
      "Selected Features: [False  True False False  True  True  True  True  True False False  True\n",
      " False False  True  True False False]\n",
      "Feature Ranking: [ 2  1  3 10  1  1  1  1  1  4  5  1  8  6  1  1  7  9]\n"
     ]
    }
   ],
   "source": [
    "from sklearn.feature_selection import RFE #importing RFE class from sklearn library\n",
    "\n",
    "rfe = RFE(estimator= model , step = 1)\n",
    "\n",
    "# Fit the function for ranking the features\n",
    "fit = rfe.fit(train_features, train_target)\n",
    "\n",
    "print(\"Num Features: %d\" % fit.n_features_)\n",
    "print(\"Selected Features: %s\" % fit.support_)\n",
    "print(\"Feature Ranking: %s\" % fit.ranking_)"
   ]
  },
  {
   "cell_type": "markdown",
   "metadata": {},
   "source": [
    "### Representing feature ranks in the form of a table\n",
    "\n",
    "Through the output mentioned above we can't understand which feature has a better rank unless we see the index of each. In order to better visualise, we can put it in the form of a table with ranking as mentioned below.\n"
   ]
  },
  {
   "cell_type": "code",
   "execution_count": 9,
   "metadata": {},
   "outputs": [
    {
     "data": {
      "text/html": [
       "<div>\n",
       "<style scoped>\n",
       "    .dataframe tbody tr th:only-of-type {\n",
       "        vertical-align: middle;\n",
       "    }\n",
       "\n",
       "    .dataframe tbody tr th {\n",
       "        vertical-align: top;\n",
       "    }\n",
       "\n",
       "    .dataframe thead th {\n",
       "        text-align: right;\n",
       "    }\n",
       "</style>\n",
       "<table border=\"1\" class=\"dataframe\">\n",
       "  <thead>\n",
       "    <tr style=\"text-align: right;\">\n",
       "      <th></th>\n",
       "      <th>Feature</th>\n",
       "      <th>Ranking</th>\n",
       "    </tr>\n",
       "  </thead>\n",
       "  <tbody>\n",
       "    <tr>\n",
       "      <th>8</th>\n",
       "      <td>grade</td>\n",
       "      <td>1</td>\n",
       "    </tr>\n",
       "    <tr>\n",
       "      <th>1</th>\n",
       "      <td>bathrooms</td>\n",
       "      <td>1</td>\n",
       "    </tr>\n",
       "    <tr>\n",
       "      <th>15</th>\n",
       "      <td>long</td>\n",
       "      <td>1</td>\n",
       "    </tr>\n",
       "    <tr>\n",
       "      <th>14</th>\n",
       "      <td>lat</td>\n",
       "      <td>1</td>\n",
       "    </tr>\n",
       "    <tr>\n",
       "      <th>4</th>\n",
       "      <td>floors</td>\n",
       "      <td>1</td>\n",
       "    </tr>\n",
       "    <tr>\n",
       "      <th>5</th>\n",
       "      <td>waterfront</td>\n",
       "      <td>1</td>\n",
       "    </tr>\n",
       "    <tr>\n",
       "      <th>6</th>\n",
       "      <td>view</td>\n",
       "      <td>1</td>\n",
       "    </tr>\n",
       "    <tr>\n",
       "      <th>7</th>\n",
       "      <td>condition</td>\n",
       "      <td>1</td>\n",
       "    </tr>\n",
       "    <tr>\n",
       "      <th>11</th>\n",
       "      <td>yr_built</td>\n",
       "      <td>1</td>\n",
       "    </tr>\n",
       "    <tr>\n",
       "      <th>0</th>\n",
       "      <td>bedrooms</td>\n",
       "      <td>2</td>\n",
       "    </tr>\n",
       "    <tr>\n",
       "      <th>2</th>\n",
       "      <td>sqft_living</td>\n",
       "      <td>3</td>\n",
       "    </tr>\n",
       "    <tr>\n",
       "      <th>9</th>\n",
       "      <td>sqft_above</td>\n",
       "      <td>4</td>\n",
       "    </tr>\n",
       "    <tr>\n",
       "      <th>10</th>\n",
       "      <td>sqft_basement</td>\n",
       "      <td>5</td>\n",
       "    </tr>\n",
       "    <tr>\n",
       "      <th>13</th>\n",
       "      <td>zipcode</td>\n",
       "      <td>6</td>\n",
       "    </tr>\n",
       "    <tr>\n",
       "      <th>16</th>\n",
       "      <td>sqft_living15</td>\n",
       "      <td>7</td>\n",
       "    </tr>\n",
       "    <tr>\n",
       "      <th>12</th>\n",
       "      <td>yr_renovated</td>\n",
       "      <td>8</td>\n",
       "    </tr>\n",
       "    <tr>\n",
       "      <th>17</th>\n",
       "      <td>sqft_lot15</td>\n",
       "      <td>9</td>\n",
       "    </tr>\n",
       "    <tr>\n",
       "      <th>3</th>\n",
       "      <td>sqft_lot</td>\n",
       "      <td>10</td>\n",
       "    </tr>\n",
       "  </tbody>\n",
       "</table>\n",
       "</div>"
      ],
      "text/plain": [
       "          Feature  Ranking\n",
       "8           grade        1\n",
       "1       bathrooms        1\n",
       "15           long        1\n",
       "14            lat        1\n",
       "4          floors        1\n",
       "5      waterfront        1\n",
       "6            view        1\n",
       "7       condition        1\n",
       "11       yr_built        1\n",
       "0        bedrooms        2\n",
       "2     sqft_living        3\n",
       "9      sqft_above        4\n",
       "10  sqft_basement        5\n",
       "13        zipcode        6\n",
       "16  sqft_living15        7\n",
       "12   yr_renovated        8\n",
       "17     sqft_lot15        9\n",
       "3        sqft_lot       10"
      ]
     },
     "execution_count": 9,
     "metadata": {},
     "output_type": "execute_result"
    }
   ],
   "source": [
    "selected_rfe_features = pd.DataFrame({'Feature':list(train_features.columns),\n",
    "                                      'Ranking':rfe.ranking_})\n",
    "selected_rfe_features.sort_values(by='Ranking')"
   ]
  },
  {
   "cell_type": "code",
   "execution_count": 11,
   "metadata": {},
   "outputs": [],
   "source": [
    "# Transforming the data\n",
    "X_train_rfe = rfe.transform(train_features)\n",
    "X_test_rfe = rfe.transform(test_features)\n",
    "\n",
    "# Fitting our baseline model with the transformed data\n",
    "lr_rfe_model = model.fit(X_train_rfe, train_target)"
   ]
  },
  {
   "cell_type": "code",
   "execution_count": 12,
   "metadata": {},
   "outputs": [
    {
     "name": "stdout",
     "output_type": "stream",
     "text": [
      "RFE Model RMSE: 217547.29427803485\n",
      "RFE Model R2 Score: 0.6745789827469739\n"
     ]
    }
   ],
   "source": [
    "# Comparing the models\n",
    "\n",
    "# finding our predicted values\n",
    "y_pred_rfe = lr_rfe_model.predict(X_test_rfe)\n",
    "\n",
    "# Calculating the rmse and R2 Score by comparing the actual and predicted values\n",
    "rfe_rmse = (np.sqrt(mean_squared_error(test_target, y_pred_rfe)))\n",
    "rfe_r2 = r2_score(test_target, y_pred_rfe)\n",
    "\n",
    "print(\"RFE Model RMSE:\", rfe_rmse)\n",
    "print(\"RFE Model R2 Score:\", rfe_r2)"
   ]
  },
  {
   "cell_type": "markdown",
   "metadata": {},
   "source": [
    "### Training a Random Forest Regressor"
   ]
  },
  {
   "cell_type": "code",
   "execution_count": 37,
   "metadata": {},
   "outputs": [
    {
     "data": {
      "text/plain": [
       "RandomForestRegressor(bootstrap=True, ccp_alpha=0.0, criterion='mse',\n",
       "                      max_depth=None, max_features='auto', max_leaf_nodes=None,\n",
       "                      max_samples=None, min_impurity_decrease=0.0,\n",
       "                      min_impurity_split=None, min_samples_leaf=1,\n",
       "                      min_samples_split=2, min_weight_fraction_leaf=0.0,\n",
       "                      n_estimators=1000, n_jobs=-1, oob_score=False,\n",
       "                      random_state=1, verbose=0, warm_start=False)"
      ]
     },
     "execution_count": 37,
     "metadata": {},
     "output_type": "execute_result"
    }
   ],
   "source": [
    "from sklearn.ensemble import RandomForestRegressor\n",
    "\n",
    "# Create a random forest classifier\n",
    "rfr = RandomForestRegressor(n_estimators=1000, random_state=1, n_jobs=-1)\n",
    "\n",
    "# n_estimators = The number of trees in the forest.\n",
    "# n_jobs = -1 : Use all processors for training\n",
    "\n",
    "# Train the regressor\n",
    "rfr.fit(train_features, train_target)"
   ]
  },
  {
   "cell_type": "code",
   "execution_count": 18,
   "metadata": {},
   "outputs": [
    {
     "data": {
      "image/png": "[encoded data removed]",
      "text/plain": [
       "<Figure size 432x288 with 1 Axes>"
      ]
     },
     "metadata": {
      "needs_background": "light"
     },
     "output_type": "display_data"
    }
   ],
   "source": [
    "#plot graph of feature importances for better visualization\n",
    "feat_importances = pd.Series(rfr.feature_importances_, index=train_features.columns)\n",
    "feat_importances.nlargest(18).plot(kind='barh')\n",
    "plt.show()"
   ]
  },
  {
   "cell_type": "code",
   "execution_count": 19,
   "metadata": {},
   "outputs": [],
   "source": [
    "from sklearn.feature_selection import SelectFromModel\n",
    "# Create a selector object that will use the random forest classifier to identify\n",
    "# It will select the features based on the importance score\n",
    "rfr_sfm = SelectFromModel(rfr)\n",
    "\n",
    "#Alternatively if you want to set a specific threshold and select the features you may the following code that is commented\n",
    "# features that have an importance of more than 0.13 ( all top 4 features lie above this)\n",
    "# rf_sfm = SelectFromModel(rf_clf, threshold=0.13)\n",
    "\n",
    "# Train the selector\n",
    "rfr_sfm = rfr_sfm.fit(train_features, train_target)"
   ]
  },
  {
   "cell_type": "code",
   "execution_count": 20,
   "metadata": {},
   "outputs": [],
   "source": [
    "# Transform the data to create a new dataset containing only the most important features\n",
    "# Note: We have to apply the transform to both the training X and test X data.\n",
    "X_important_train = rfr_sfm.transform(train_features)\n",
    "X_important_test = rfr_sfm.transform(test_features)"
   ]
  },
  {
   "cell_type": "code",
   "execution_count": 21,
   "metadata": {},
   "outputs": [],
   "source": [
    "# Create a new random forest classifier for the most important features\n",
    "rfr_important = RandomForestRegressor(n_estimators=1000, random_state=1, n_jobs=-1)\n",
    "\n",
    "# Train the new classifier on the new dataset containing the most important features\n",
    "rfr_important = rfr_important.fit(X_important_train, train_target)"
   ]
  },
  {
   "cell_type": "code",
   "execution_count": 24,
   "metadata": {},
   "outputs": [
    {
     "name": "stdout",
     "output_type": "stream",
     "text": [
      "RFR Model RMSE: 141290.93159243016\n",
      "RFR Model R2 Score: 0.8627327910572489\n"
     ]
    }
   ],
   "source": [
    "# Comparing the models\n",
    "\n",
    "# finding our predicted values\n",
    "y_pred_rfr = rfr.predict(test_features)\n",
    "\n",
    "# Calculating the rmse and R2 Score by comparing the actual and predicted values\n",
    "rfr_rmse = (np.sqrt(mean_squared_error(test_target, y_pred_rfr)))\n",
    "rfr_r2 = r2_score(test_target, y_pred_rfr)\n",
    "\n",
    "print(\"RFR Model RMSE:\", rfr_rmse)\n",
    "print(\"RFR Model R2 Score:\", rfr_r2)"
   ]
  },
  {
   "cell_type": "code",
   "execution_count": 26,
   "metadata": {},
   "outputs": [
    {
     "name": "stdout",
     "output_type": "stream",
     "text": [
      "Limited RFR Model RMSE: 165469.40586138857\n",
      "Limited RFR Model R2 Score: 0.81173324329665\n"
     ]
    }
   ],
   "source": [
    "# Apply The Full Featured Classifier To The Test Data\n",
    "y_imp_pred = rfr_important.predict(X_important_test)\n",
    "\n",
    "# Calculating the rmse and R2 Score by comparing the actual and predicted values\n",
    "rfr_imp_rmse = (np.sqrt(mean_squared_error(test_target, y_imp_pred)))\n",
    "rfr_imp_r2 = r2_score(test_target, y_imp_pred)\n",
    "\n",
    "print(\"Limited RFR Model RMSE:\", rfr_imp_rmse)\n",
    "print(\"Limited RFR Model R2 Score:\", rfr_imp_r2)"
   ]
  },
  {
   "cell_type": "markdown",
   "metadata": {},
   "source": [
    "## Applying the Boruta Method"
   ]
  },
  {
   "cell_type": "code",
   "execution_count": 27,
   "metadata": {},
   "outputs": [
    {
     "name": "stdout",
     "output_type": "stream",
     "text": [
      "Collecting Boruta\n",
      "  Downloading Boruta-0.3-py3-none-any.whl (56 kB)\n",
      "Requirement already satisfied: scipy>=0.17.0 in c:\\users\\kkulk\\anaconda3\\lib\\site-packages (from Boruta) (1.3.2)\n",
      "Requirement already satisfied: scikit-learn>=0.17.1 in c:\\users\\kkulk\\anaconda3\\lib\\site-packages (from Boruta) (0.22.1)\n",
      "Requirement already satisfied: numpy>=1.10.4 in c:\\users\\kkulk\\anaconda3\\lib\\site-packages (from Boruta) (1.18.1)\n",
      "Requirement already satisfied: joblib>=0.11 in c:\\users\\kkulk\\anaconda3\\lib\\site-packages (from scikit-learn>=0.17.1->Boruta) (0.14.1)\n",
      "Installing collected packages: Boruta\n",
      "Successfully installed Boruta-0.3\n"
     ]
    }
   ],
   "source": [
    "!pip install Boruta"
   ]
  },
  {
   "cell_type": "code",
   "execution_count": 28,
   "metadata": {},
   "outputs": [
    {
     "name": "stdout",
     "output_type": "stream",
     "text": [
      "Iteration: \t1 / 100\n",
      "Confirmed: \t0\n",
      "Tentative: \t18\n",
      "Rejected: \t0\n",
      "Iteration: \t2 / 100\n",
      "Confirmed: \t0\n",
      "Tentative: \t18\n",
      "Rejected: \t0\n",
      "Iteration: \t3 / 100\n",
      "Confirmed: \t0\n",
      "Tentative: \t18\n",
      "Rejected: \t0\n",
      "Iteration: \t4 / 100\n",
      "Confirmed: \t0\n",
      "Tentative: \t18\n",
      "Rejected: \t0\n",
      "Iteration: \t5 / 100\n",
      "Confirmed: \t0\n",
      "Tentative: \t18\n",
      "Rejected: \t0\n",
      "Iteration: \t6 / 100\n",
      "Confirmed: \t0\n",
      "Tentative: \t18\n",
      "Rejected: \t0\n",
      "Iteration: \t7 / 100\n",
      "Confirmed: \t0\n",
      "Tentative: \t18\n",
      "Rejected: \t0\n",
      "Iteration: \t8 / 100\n",
      "Confirmed: \t11\n",
      "Tentative: \t2\n",
      "Rejected: \t5\n",
      "Iteration: \t9 / 100\n",
      "Confirmed: \t11\n",
      "Tentative: \t2\n",
      "Rejected: \t5\n",
      "Iteration: \t10 / 100\n",
      "Confirmed: \t11\n",
      "Tentative: \t2\n",
      "Rejected: \t5\n",
      "Iteration: \t11 / 100\n",
      "Confirmed: \t11\n",
      "Tentative: \t2\n",
      "Rejected: \t5\n",
      "Iteration: \t12 / 100\n",
      "Confirmed: \t12\n",
      "Tentative: \t0\n",
      "Rejected: \t6\n",
      "\n",
      "\n",
      "BorutaPy finished running.\n",
      "\n",
      "Iteration: \t13 / 100\n",
      "Confirmed: \t12\n",
      "Tentative: \t0\n",
      "Rejected: \t6\n"
     ]
    },
    {
     "data": {
      "text/plain": [
       "BorutaPy(alpha=0.05,\n",
       "         estimator=RandomForestRegressor(bootstrap=True, ccp_alpha=0.0,\n",
       "                                         criterion='mse', max_depth=None,\n",
       "                                         max_features='auto',\n",
       "                                         max_leaf_nodes=None, max_samples=None,\n",
       "                                         min_impurity_decrease=0.0,\n",
       "                                         min_impurity_split=None,\n",
       "                                         min_samples_leaf=1,\n",
       "                                         min_samples_split=2,\n",
       "                                         min_weight_fraction_leaf=0.0,\n",
       "                                         n_estimators=50, n_jobs=-1,\n",
       "                                         oob_score=False,\n",
       "                                         random_state=RandomState(MT19937) at 0x2A7FE676DB0,\n",
       "                                         verbose=0, warm_start=False),\n",
       "         max_iter=100, n_estimators='auto', perc=100,\n",
       "         random_state=RandomState(MT19937) at 0x2A7FE676DB0, two_step=True,\n",
       "         verbose=2)"
      ]
     },
     "execution_count": 28,
     "metadata": {},
     "output_type": "execute_result"
    }
   ],
   "source": [
    "from boruta import BorutaPy\n",
    "\n",
    "# define Boruta feature selection method\n",
    "# boruta_selector = BorutaPy(forest, n_estimators='auto', verbose=2)\n",
    "boruta_selector = BorutaPy(rfr, n_estimators='auto', verbose=2, random_state=1)\n",
    "\n",
    "# find all relevant features\n",
    "boruta_selector.fit(np.array(train_features), np.array(train_target))"
   ]
  },
  {
   "cell_type": "code",
   "execution_count": 29,
   "metadata": {},
   "outputs": [
    {
     "name": "stdout",
     "output_type": "stream",
     "text": [
      "Selected Features:  [False False  True  True False  True  True False  True  True False  True\n",
      " False  True  True  True  True  True]\n",
      "Ranking:  [5 2 1 1 7 1 1 4 1 1 3 1 6 1 1 1 1 1]\n",
      "No. of significant features:  12\n"
     ]
    }
   ],
   "source": [
    "# check selected features\n",
    "print(\"Selected Features: \", boruta_selector.support_)\n",
    " \n",
    "# check ranking of features\n",
    "print(\"Ranking: \",boruta_selector.ranking_)\n",
    "\n",
    "print(\"No. of significant features: \", boruta_selector.n_features_)"
   ]
  },
  {
   "cell_type": "code",
   "execution_count": 30,
   "metadata": {},
   "outputs": [
    {
     "data": {
      "text/html": [
       "<div>\n",
       "<style scoped>\n",
       "    .dataframe tbody tr th:only-of-type {\n",
       "        vertical-align: middle;\n",
       "    }\n",
       "\n",
       "    .dataframe tbody tr th {\n",
       "        vertical-align: top;\n",
       "    }\n",
       "\n",
       "    .dataframe thead th {\n",
       "        text-align: right;\n",
       "    }\n",
       "</style>\n",
       "<table border=\"1\" class=\"dataframe\">\n",
       "  <thead>\n",
       "    <tr style=\"text-align: right;\">\n",
       "      <th></th>\n",
       "      <th>Feature</th>\n",
       "      <th>Ranking</th>\n",
       "    </tr>\n",
       "  </thead>\n",
       "  <tbody>\n",
       "    <tr>\n",
       "      <th>8</th>\n",
       "      <td>grade</td>\n",
       "      <td>1</td>\n",
       "    </tr>\n",
       "    <tr>\n",
       "      <th>15</th>\n",
       "      <td>long</td>\n",
       "      <td>1</td>\n",
       "    </tr>\n",
       "    <tr>\n",
       "      <th>14</th>\n",
       "      <td>lat</td>\n",
       "      <td>1</td>\n",
       "    </tr>\n",
       "    <tr>\n",
       "      <th>13</th>\n",
       "      <td>zipcode</td>\n",
       "      <td>1</td>\n",
       "    </tr>\n",
       "    <tr>\n",
       "      <th>11</th>\n",
       "      <td>yr_built</td>\n",
       "      <td>1</td>\n",
       "    </tr>\n",
       "    <tr>\n",
       "      <th>9</th>\n",
       "      <td>sqft_above</td>\n",
       "      <td>1</td>\n",
       "    </tr>\n",
       "    <tr>\n",
       "      <th>16</th>\n",
       "      <td>sqft_living15</td>\n",
       "      <td>1</td>\n",
       "    </tr>\n",
       "    <tr>\n",
       "      <th>17</th>\n",
       "      <td>sqft_lot15</td>\n",
       "      <td>1</td>\n",
       "    </tr>\n",
       "    <tr>\n",
       "      <th>6</th>\n",
       "      <td>view</td>\n",
       "      <td>1</td>\n",
       "    </tr>\n",
       "    <tr>\n",
       "      <th>5</th>\n",
       "      <td>waterfront</td>\n",
       "      <td>1</td>\n",
       "    </tr>\n",
       "    <tr>\n",
       "      <th>3</th>\n",
       "      <td>sqft_lot</td>\n",
       "      <td>1</td>\n",
       "    </tr>\n",
       "    <tr>\n",
       "      <th>2</th>\n",
       "      <td>sqft_living</td>\n",
       "      <td>1</td>\n",
       "    </tr>\n",
       "    <tr>\n",
       "      <th>1</th>\n",
       "      <td>bathrooms</td>\n",
       "      <td>2</td>\n",
       "    </tr>\n",
       "    <tr>\n",
       "      <th>10</th>\n",
       "      <td>sqft_basement</td>\n",
       "      <td>3</td>\n",
       "    </tr>\n",
       "    <tr>\n",
       "      <th>7</th>\n",
       "      <td>condition</td>\n",
       "      <td>4</td>\n",
       "    </tr>\n",
       "    <tr>\n",
       "      <th>0</th>\n",
       "      <td>bedrooms</td>\n",
       "      <td>5</td>\n",
       "    </tr>\n",
       "    <tr>\n",
       "      <th>12</th>\n",
       "      <td>yr_renovated</td>\n",
       "      <td>6</td>\n",
       "    </tr>\n",
       "    <tr>\n",
       "      <th>4</th>\n",
       "      <td>floors</td>\n",
       "      <td>7</td>\n",
       "    </tr>\n",
       "  </tbody>\n",
       "</table>\n",
       "</div>"
      ],
      "text/plain": [
       "          Feature  Ranking\n",
       "8           grade        1\n",
       "15           long        1\n",
       "14            lat        1\n",
       "13        zipcode        1\n",
       "11       yr_built        1\n",
       "9      sqft_above        1\n",
       "16  sqft_living15        1\n",
       "17     sqft_lot15        1\n",
       "6            view        1\n",
       "5      waterfront        1\n",
       "3        sqft_lot        1\n",
       "2     sqft_living        1\n",
       "1       bathrooms        2\n",
       "10  sqft_basement        3\n",
       "7       condition        4\n",
       "0        bedrooms        5\n",
       "12   yr_renovated        6\n",
       "4          floors        7"
      ]
     },
     "execution_count": 30,
     "metadata": {},
     "output_type": "execute_result"
    }
   ],
   "source": [
    "# Let's visualise it better in the form of a table\n",
    "selected_rfr_features = pd.DataFrame({'Feature':list(train_features.columns),\n",
    "                                      'Ranking':boruta_selector.ranking_})\n",
    "selected_rfr_features.sort_values(by='Ranking')"
   ]
  },
  {
   "cell_type": "code",
   "execution_count": 31,
   "metadata": {},
   "outputs": [],
   "source": [
    "# New subset with only the imp features\n",
    "\n",
    "X_imp_train = boruta_selector.transform(np.array(train_features))\n",
    "X_imp_test = boruta_selector.transform(np.array(test_features))"
   ]
  },
  {
   "cell_type": "code",
   "execution_count": 32,
   "metadata": {},
   "outputs": [
    {
     "data": {
      "text/plain": [
       "RandomForestRegressor(bootstrap=True, ccp_alpha=0.0, criterion='mse',\n",
       "                      max_depth=None, max_features='auto', max_leaf_nodes=None,\n",
       "                      max_samples=None, min_impurity_decrease=0.0,\n",
       "                      min_impurity_split=None, min_samples_leaf=1,\n",
       "                      min_samples_split=2, min_weight_fraction_leaf=0.0,\n",
       "                      n_estimators=1000, n_jobs=-1, oob_score=False,\n",
       "                      random_state=1, verbose=0, warm_start=False)"
      ]
     },
     "execution_count": 32,
     "metadata": {},
     "output_type": "execute_result"
    }
   ],
   "source": [
    "# Create a new random forest regressor for the most important features\n",
    "rfr_imp = RandomForestRegressor(n_estimators=1000, random_state=1, n_jobs=-1)\n",
    "\n",
    "# Train the new regressor on the new dataset containing the most important features\n",
    "rfr_imp.fit(X_imp_train, train_target)"
   ]
  },
  {
   "cell_type": "code",
   "execution_count": 33,
   "metadata": {},
   "outputs": [
    {
     "name": "stdout",
     "output_type": "stream",
     "text": [
      "Boruta RFR Model RMSE: 141385.97590409548\n",
      "Boruta RFR Model R2 Score: 0.862548053716734\n"
     ]
    }
   ],
   "source": [
    "# Apply The Full Featured Classifier To The Test Data\n",
    "rfr_imp_pred = rfr_imp.predict(X_imp_test)\n",
    "\n",
    "# Calculating the rmse and R2 Score by comparing the actual and predicted values\n",
    "boruta_rfr_imp_rmse = (np.sqrt(mean_squared_error(test_target, rfr_imp_pred)))\n",
    "boruta_rfr_imp_r2 = r2_score(test_target, rfr_imp_pred)\n",
    "\n",
    "print(\"Boruta RFR Model RMSE:\", boruta_rfr_imp_rmse)\n",
    "print(\"Boruta RFR Model R2 Score:\", boruta_rfr_imp_r2)"
   ]
  },
  {
   "cell_type": "markdown",
   "metadata": {},
   "source": [
    "# Evalution on Practice Dataset "
   ]
  },
  {
   "cell_type": "code",
   "execution_count": 38,
   "metadata": {},
   "outputs": [],
   "source": [
    "test_new = pd.read_csv('https://raw.githubusercontent.com/dphi-official/Datasets/master/kc_house_data/kc_house_new_test_data.csv')"
   ]
  },
  {
   "cell_type": "code",
   "execution_count": 39,
   "metadata": {},
   "outputs": [],
   "source": [
    "price = rfr.predict(test_new)"
   ]
  },
  {
   "cell_type": "code",
   "execution_count": 40,
   "metadata": {},
   "outputs": [],
   "source": [
    "res = pd.DataFrame(price)\n",
    "res.index = test_new.index # its important for comparison\n",
    "res.columns = [\"price\"]\n",
    "res.to_csv(\"prediction_results_lin_reg_ex.csv\")      # the csv file will be saved locally on the same location where this notebook is located."
   ]
  }
 ],
 "metadata": {
  "kernelspec": {
   "display_name": "Python 3",
   "language": "python",
   "name": "python3"
  },
  "language_info": {
   "codemirror_mode": {
    "name": "ipython",
    "version": 3
   },
   "file_extension": ".py",
   "mimetype": "text/x-python",
   "name": "python",
   "nbconvert_exporter": "python",
   "pygments_lexer": "ipython3",
   "version": "3.7.1"
  }
 },
 "nbformat": 4,
 "nbformat_minor": 4
}
